{
 "cells": [
  {
   "cell_type": "code",
   "execution_count": 6,
   "metadata": {},
   "outputs": [
    {
     "name": "stdout",
     "output_type": "stream",
     "text": [
      "=== TEST F251 C ===\n",
      "Test add, sub, x +/- {2,3,4}*y, ...\n",
      "OK\n",
      "Test Montgomery ...\n",
      "OK\n",
      "Test sum state ...\n",
      "OK\n",
      "youpi!\n",
      "\n",
      "=== TEST F251 ASM ===\n",
      "Test add, sub, x +/- {2,3,4}*y, ...\n",
      "OK\n",
      "Test Montgomery ...\n",
      "OK\n",
      "Test sum state ...\n",
      "OK\n",
      "youpi!\n",
      "\n",
      "=== TEST POSEIDON C ===\n",
      "Test permutation_3 ...\n",
      "OK\n",
      "Test permutation_4 ...\n",
      "OK\n",
      "Test permutation_5 ...\n",
      "OK\n",
      "Test permutation_9 ...\n",
      "OK\n",
      "youpi!\n",
      "\n",
      "=== TEST POSEIDON ASM ===\n",
      "Test permutation_3 ...\n",
      "OK\n",
      "Test permutation_4 ...\n",
      "OK\n",
      "Test permutation_5 ...\n",
      "OK\n",
      "Test permutation_9 ...\n",
      "OK\n",
      "youpi!\n"
     ]
    }
   ],
   "source": [
    "load('poseidon.sage')\n",
    "load('test_clib.sage')\n",
    "\n",
    "print(\"=== TEST F251 C ===\")\n",
    "test_lib_f251('lib_pos.so')\n",
    "\n",
    "print(\"\\n=== TEST F251 ASM ===\")\n",
    "test_lib_f251('lib_pos_asm.so')\n",
    "\n",
    "print(\"\\n=== TEST POSEIDON C ===\")\n",
    "test_permutation('lib_pos.so')\n",
    "\n",
    "print(\"\\n=== TEST POSEIDON ASM ===\")\n",
    "test_permutation('lib_pos_asm.so')"
   ]
  },
  {
   "cell_type": "code",
   "execution_count": 5,
   "metadata": {},
   "outputs": [
    {
     "name": "stdout",
     "output_type": "stream",
     "text": [
      "All good :-)\n"
     ]
    }
   ],
   "source": [
    "# Debugging\n",
    "\n",
    "load('poseidon_variant.sage')\n",
    "load('test_clib.sage')\n",
    "\n",
    "debug_poseidon('lib_pos.so',3)\n",
    "debug_poseidon('lib_pos.so',4)\n",
    "debug_poseidon('lib_pos.so',5)\n",
    "debug_poseidon('lib_pos.so',9)\n",
    "\n",
    "debug_poseidon_macro('lib_pos.so',3)\n",
    "debug_poseidon_macro('lib_pos.so',4)\n",
    "debug_poseidon_macro('lib_pos.so',5)\n",
    "debug_poseidon_macro('lib_pos.so',9)\n",
    "\n",
    "debug_poseidon('lib_pos_asm.so',3)\n",
    "debug_poseidon('lib_pos_asm.so',4)\n",
    "debug_poseidon('lib_pos_asm.so',5)\n",
    "debug_poseidon('lib_pos_asm.so',9)\n",
    "\n",
    "debug_poseidon_macro('lib_pos_asm.so',3)\n",
    "debug_poseidon_macro('lib_pos_asm.so',4)\n",
    "debug_poseidon_macro('lib_pos_asm.so',5)\n",
    "debug_poseidon_macro('lib_pos_asm.so',9)\n",
    "\n",
    "print('All good :-)')"
   ]
  }
 ],
 "metadata": {
  "kernelspec": {
   "display_name": "SageMath 9.3",
   "language": "sage",
   "name": "sagemath-9.3"
  },
  "language_info": {
   "codemirror_mode": {
    "name": "ipython",
    "version": 3
   },
   "file_extension": ".py",
   "mimetype": "text/x-python",
   "name": "python",
   "nbconvert_exporter": "python",
   "pygments_lexer": "ipython3",
   "version": "3.9.2"
  }
 },
 "nbformat": 4,
 "nbformat_minor": 5
}
